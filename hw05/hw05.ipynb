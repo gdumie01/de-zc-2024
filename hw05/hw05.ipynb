{
 "cells": [
  {
   "cell_type": "markdown",
   "id": "83b939ad-ffe6-4e89-84db-a79e645494a5",
   "metadata": {},
   "source": [
    "# HW05"
   ]
  },
  {
   "cell_type": "markdown",
   "id": "df72fb8a-f34e-49a4-882a-ced1898be4e6",
   "metadata": {},
   "source": [
    "## Q1"
   ]
  },
  {
   "cell_type": "code",
   "execution_count": 1,
   "id": "f58221ff-32e6-48c9-8745-8d1e9d5d8fc5",
   "metadata": {},
   "outputs": [
    {
     "name": "stdout",
     "output_type": "stream",
     "text": [
      "24/03/03 19:38:52 WARN Utils: Your hostname, codespaces-986d2b resolves to a loopback address: 127.0.0.1; using 172.16.5.4 instead (on interface eth0)\n",
      "24/03/03 19:38:52 WARN Utils: Set SPARK_LOCAL_IP if you need to bind to another address\n"
     ]
    },
    {
     "name": "stderr",
     "output_type": "stream",
     "text": [
      "Setting default log level to \"WARN\".\n",
      "To adjust logging level use sc.setLogLevel(newLevel). For SparkR, use setLogLevel(newLevel).\n"
     ]
    },
    {
     "name": "stdout",
     "output_type": "stream",
     "text": [
      "24/03/03 19:38:52 WARN NativeCodeLoader: Unable to load native-hadoop library for your platform... using builtin-java classes where applicable\n"
     ]
    }
   ],
   "source": [
    "import pyspark\n",
    "from pyspark.sql import SparkSession\n",
    "\n",
    "spark = SparkSession.builder \\\n",
    "    .master(\"local[*]\") \\\n",
    "    .appName('test') \\\n",
    "    .getOrCreate()"
   ]
  },
  {
   "cell_type": "code",
   "execution_count": 2,
   "id": "46b5a7d6-39dc-492c-a4d2-809a299f981e",
   "metadata": {},
   "outputs": [
    {
     "data": {
      "text/plain": [
       "'3.3.2'"
      ]
     },
     "execution_count": 2,
     "metadata": {},
     "output_type": "execute_result"
    }
   ],
   "source": [
    "spark.version"
   ]
  },
  {
   "cell_type": "markdown",
   "id": "e101f4ba-d485-4eeb-94f8-fc6e0e49197c",
   "metadata": {},
   "source": [
    "A: 3.3.2"
   ]
  },
  {
   "cell_type": "markdown",
   "id": "320e2765-fee8-4fd8-ac18-e7d966d947ec",
   "metadata": {},
   "source": [
    "## Q2"
   ]
  },
  {
   "cell_type": "code",
   "execution_count": 3,
   "id": "8f6074a2-722b-4880-a23f-0936555caf35",
   "metadata": {},
   "outputs": [],
   "source": [
    "from pyspark.sql import types"
   ]
  },
  {
   "cell_type": "code",
   "execution_count": 4,
   "id": "40de1245-aba0-4e4b-9fda-4743d90a472d",
   "metadata": {},
   "outputs": [],
   "source": [
    "schema = types.StructType([\n",
    "    types.StructField('dispatching_base_num', types.StringType(), True),\n",
    "    types.StructField('pickup_datetime', types.TimestampType(), True),\n",
    "    types.StructField('dropOff_datetime', types.TimestampType(), True),\n",
    "    types.StructField('PULocationID', types.IntegerType(), True),\n",
    "    types.StructField('DOLocationID', types.IntegerType(), True),\n",
    "    types.StructField('SR_Flag', types.StringType(), True),\n",
    "    types.StructField('Affiliated_base_number', types.StringType(), True)\n",
    "])"
   ]
  },
  {
   "cell_type": "code",
   "execution_count": 5,
   "id": "df4e8201-834d-4e3e-86da-6306d1b0352b",
   "metadata": {},
   "outputs": [],
   "source": [
    "df = spark.read \\\n",
    "    .option(\"header\", \"true\") \\\n",
    "    .schema(schema) \\\n",
    "    .csv('fhv_tripdata_2019-10.csv.gz')"
   ]
  },
  {
   "cell_type": "code",
   "execution_count": 6,
   "id": "5a37fc8e-e86f-4296-8f7a-c6098ed4b99c",
   "metadata": {},
   "outputs": [
    {
     "data": {
      "text/plain": [
       "StructType([StructField('dispatching_base_num', StringType(), True), StructField('pickup_datetime', TimestampType(), True), StructField('dropOff_datetime', TimestampType(), True), StructField('PULocationID', IntegerType(), True), StructField('DOLocationID', IntegerType(), True), StructField('SR_Flag', StringType(), True), StructField('Affiliated_base_number', StringType(), True)])"
      ]
     },
     "execution_count": 6,
     "metadata": {},
     "output_type": "execute_result"
    }
   ],
   "source": [
    "df.schema"
   ]
  },
  {
   "cell_type": "code",
   "execution_count": 7,
   "id": "c034dec8-a8ad-4cbe-ac86-e5a3000c05de",
   "metadata": {},
   "outputs": [],
   "source": [
    "df = df.repartition(6)"
   ]
  },
  {
   "cell_type": "code",
   "execution_count": 8,
   "id": "32b50e83-f803-48ca-bb9b-537856bb2862",
   "metadata": {},
   "outputs": [
    {
     "name": "stderr",
     "output_type": "stream",
     "text": [
      "                                                                                \r"
     ]
    }
   ],
   "source": [
    "df.write.parquet('fhvhv/2019/10/', mode='overwrite')"
   ]
  },
  {
   "cell_type": "code",
   "execution_count": 9,
   "id": "f70934eb-5331-4b7b-b7c6-9c45033de7e9",
   "metadata": {},
   "outputs": [
    {
     "name": "stdout",
     "output_type": "stream",
     "text": [
      "-rw-r--r-- 1 codespace codespace 6.4M Mar  3 19:39 fhvhv/2019/10/part-00000-2831760f-8f1e-49b0-8b29-ad0696c1fe94-c000.snappy.parquet\n",
      "-rw-r--r-- 1 codespace codespace 6.4M Mar  3 19:39 fhvhv/2019/10/part-00001-2831760f-8f1e-49b0-8b29-ad0696c1fe94-c000.snappy.parquet\n",
      "-rw-r--r-- 1 codespace codespace 6.4M Mar  3 19:39 fhvhv/2019/10/part-00002-2831760f-8f1e-49b0-8b29-ad0696c1fe94-c000.snappy.parquet\n",
      "-rw-r--r-- 1 codespace codespace 6.4M Mar  3 19:39 fhvhv/2019/10/part-00003-2831760f-8f1e-49b0-8b29-ad0696c1fe94-c000.snappy.parquet\n",
      "-rw-r--r-- 1 codespace codespace 6.4M Mar  3 19:39 fhvhv/2019/10/part-00004-2831760f-8f1e-49b0-8b29-ad0696c1fe94-c000.snappy.parquet\n",
      "-rw-r--r-- 1 codespace codespace 6.4M Mar  3 19:39 fhvhv/2019/10/part-00005-2831760f-8f1e-49b0-8b29-ad0696c1fe94-c000.snappy.parquet\n"
     ]
    }
   ],
   "source": [
    "!ls -lah fhvhv/2019/10/*.parquet"
   ]
  },
  {
   "cell_type": "markdown",
   "id": "2c85831b-c407-4702-af30-33218b58f636",
   "metadata": {},
   "source": [
    "A: 6MB"
   ]
  },
  {
   "cell_type": "markdown",
   "id": "453f74ad-319f-45fd-9b4d-b71b575e0b9a",
   "metadata": {},
   "source": [
    "## Q3"
   ]
  },
  {
   "cell_type": "code",
   "execution_count": 10,
   "id": "11444d8e-ff7e-4ac5-9223-4b03a923a3e3",
   "metadata": {},
   "outputs": [],
   "source": [
    "from pyspark.sql import SparkSession\n",
    "from pyspark.sql import functions as F"
   ]
  },
  {
   "cell_type": "code",
   "execution_count": 11,
   "id": "20c201d3-4b02-475e-825d-831a3fa608f0",
   "metadata": {},
   "outputs": [
    {
     "name": "stderr",
     "output_type": "stream",
     "text": [
      "/workspaces/spark/spark-3.3.2-bin-hadoop3/python/pyspark/sql/dataframe.py:229: FutureWarning: Deprecated in 2.0, use createOrReplaceTempView instead.\n",
      "  warnings.warn(\"Deprecated in 2.0, use createOrReplaceTempView instead.\", FutureWarning)\n"
     ]
    }
   ],
   "source": [
    "df.registerTempTable('fhvh_trips_data')"
   ]
  },
  {
   "cell_type": "code",
   "execution_count": 12,
   "id": "76bb18a4-4b0a-4696-b3a0-84804f698768",
   "metadata": {},
   "outputs": [],
   "source": [
    "df_result = spark.sql(\"\"\"\n",
    "    SELECT COUNT(*)\n",
    "    FROM fhvh_trips_data\n",
    "    WHERE DATE(pickup_datetime) == '2019-10-15'\n",
    "\"\"\")"
   ]
  },
  {
   "cell_type": "code",
   "execution_count": 13,
   "id": "6de41bdd-5b54-4632-980d-bbadb2aec65a",
   "metadata": {},
   "outputs": [
    {
     "name": "stderr",
     "output_type": "stream",
     "text": [
      "[Stage 3:>                                                          (0 + 1) / 1]\r"
     ]
    },
    {
     "name": "stdout",
     "output_type": "stream",
     "text": [
      "+--------+\n",
      "|count(1)|\n",
      "+--------+\n",
      "|   62610|\n",
      "+--------+\n",
      "\n"
     ]
    },
    {
     "name": "stderr",
     "output_type": "stream",
     "text": [
      "                                                                                \r"
     ]
    }
   ],
   "source": [
    "df_result.show()"
   ]
  },
  {
   "cell_type": "markdown",
   "id": "9feb68e7-57b1-4535-829d-d21e6a1bad5f",
   "metadata": {},
   "source": [
    "A: 62610"
   ]
  },
  {
   "cell_type": "markdown",
   "id": "c760295d-0645-4f99-9e2e-620c5c40ac00",
   "metadata": {},
   "source": [
    "## Q4"
   ]
  },
  {
   "cell_type": "code",
   "execution_count": 14,
   "id": "258013ee-ca90-4768-bf25-ded3d3db1060",
   "metadata": {},
   "outputs": [],
   "source": [
    "df_q4 = spark.sql(\"\"\"\n",
    "    SELECT \n",
    "        MAX(DATEDIFF(hour, pickup_datetime, dropOff_datetime))\n",
    "    FROM fhvh_trips_data\n",
    "\"\"\")"
   ]
  },
  {
   "cell_type": "code",
   "execution_count": 15,
   "id": "0a8d7bfa-94b7-4dec-b2bc-1148d0e06e6b",
   "metadata": {},
   "outputs": [
    {
     "name": "stderr",
     "output_type": "stream",
     "text": [
      "                                                                                \r"
     ]
    },
    {
     "name": "stdout",
     "output_type": "stream",
     "text": [
      "+-----------------------------------------------------------+\n",
      "|max(timestampdiff(hour, pickup_datetime, dropOff_datetime))|\n",
      "+-----------------------------------------------------------+\n",
      "|                                                     631152|\n",
      "+-----------------------------------------------------------+\n",
      "\n"
     ]
    }
   ],
   "source": [
    "df_q4.show()"
   ]
  },
  {
   "cell_type": "markdown",
   "id": "330f2147-bf27-4a98-ad67-205434842a25",
   "metadata": {},
   "source": [
    "A: 631,152.50 Hours"
   ]
  },
  {
   "cell_type": "markdown",
   "id": "f62a6d67-c7ed-487f-a330-fe55459da93c",
   "metadata": {},
   "source": [
    "## Q5"
   ]
  },
  {
   "cell_type": "markdown",
   "id": "b08ead0b-b1b4-4342-a603-7899bf7aa543",
   "metadata": {},
   "source": [
    "A: 4040"
   ]
  },
  {
   "cell_type": "markdown",
   "id": "b2ca4814-f0ee-4520-b891-71d62cf1d3c1",
   "metadata": {},
   "source": [
    "## Q6"
   ]
  },
  {
   "cell_type": "code",
   "execution_count": 16,
   "id": "aa9c1727-dc35-4ca2-8d1c-0889372a15b7",
   "metadata": {},
   "outputs": [],
   "source": [
    "schema_zones = types.StructType([\n",
    "    types.StructField('LocationID', types.IntegerType(), True),\n",
    "    types.StructField('Borough', types.StringType(), True),\n",
    "    types.StructField('Zone', types.StringType(), True),\n",
    "    types.StructField('service_zone', types.StringType(), True)\n",
    "])"
   ]
  },
  {
   "cell_type": "code",
   "execution_count": 17,
   "id": "40123e21-9923-418d-b3aa-d88d4ae9fc23",
   "metadata": {},
   "outputs": [],
   "source": [
    "df_zones = spark.read \\\n",
    "    .option(\"header\", \"true\") \\\n",
    "    .schema(schema_zones) \\\n",
    "    .csv('taxi_zone_lookup.csv')"
   ]
  },
  {
   "cell_type": "code",
   "execution_count": 18,
   "id": "fce613fd-e06a-44c6-9758-326f0e504e42",
   "metadata": {},
   "outputs": [],
   "source": [
    "df_zones.registerTempTable('zones')"
   ]
  },
  {
   "cell_type": "code",
   "execution_count": 21,
   "id": "6be89132-edbe-4be9-ac16-dea4705ef1d5",
   "metadata": {},
   "outputs": [],
   "source": [
    "df_q6 = spark.sql(\"\"\"\n",
    "SELECT\n",
    "    pul.Zone,\n",
    "    COUNT(*)\n",
    "FROM \n",
    "    fhvh_trips_data fhv LEFT JOIN zones pul ON fhv.PULocationID = pul.LocationID\n",
    "GROUP BY \n",
    "    1\n",
    "ORDER BY\n",
    "    2 ASC\n",
    "\"\"\")"
   ]
  },
  {
   "cell_type": "code",
   "execution_count": 22,
   "id": "dfccd824-e978-4a10-83a4-97d93b9b2b8a",
   "metadata": {},
   "outputs": [
    {
     "name": "stderr",
     "output_type": "stream",
     "text": [
      "[Stage 25:======================================>                   (4 + 2) / 6]\r"
     ]
    },
    {
     "name": "stdout",
     "output_type": "stream",
     "text": [
      "+--------------------+--------+\n",
      "|                Zone|count(1)|\n",
      "+--------------------+--------+\n",
      "|         Jamaica Bay|       1|\n",
      "|Governor's Island...|       2|\n",
      "| Green-Wood Cemetery|       5|\n",
      "|       Broad Channel|       8|\n",
      "|     Highbridge Park|      14|\n",
      "|        Battery Park|      15|\n",
      "|Saint Michaels Ce...|      23|\n",
      "|Breezy Point/Fort...|      25|\n",
      "|Marine Park/Floyd...|      26|\n",
      "|        Astoria Park|      29|\n",
      "|    Inwood Hill Park|      39|\n",
      "|       Willets Point|      47|\n",
      "|Forest Park/Highl...|      53|\n",
      "|  Brooklyn Navy Yard|      57|\n",
      "|        Crotona Park|      62|\n",
      "|        Country Club|      77|\n",
      "|     Freshkills Park|      89|\n",
      "|       Prospect Park|      98|\n",
      "|     Columbia Street|     105|\n",
      "|  South Williamsburg|     110|\n",
      "+--------------------+--------+\n",
      "only showing top 20 rows\n",
      "\n"
     ]
    },
    {
     "name": "stderr",
     "output_type": "stream",
     "text": [
      "                                                                                \r"
     ]
    }
   ],
   "source": [
    "df_q6.show()"
   ]
  },
  {
   "cell_type": "markdown",
   "id": "8b25c250-8c67-45a8-893c-0a613a22a5f4",
   "metadata": {},
   "source": [
    "A: Jamaica Bay"
   ]
  },
  {
   "cell_type": "code",
   "execution_count": null,
   "id": "6c53ea71-368a-4edf-9827-e465b6a1c28e",
   "metadata": {},
   "outputs": [],
   "source": []
  }
 ],
 "metadata": {
  "kernelspec": {
   "display_name": "Python 3 (ipykernel)",
   "language": "python",
   "name": "python3"
  },
  "language_info": {
   "codemirror_mode": {
    "name": "ipython",
    "version": 3
   },
   "file_extension": ".py",
   "mimetype": "text/x-python",
   "name": "python",
   "nbconvert_exporter": "python",
   "pygments_lexer": "ipython3",
   "version": "3.10.13"
  }
 },
 "nbformat": 4,
 "nbformat_minor": 5
}
