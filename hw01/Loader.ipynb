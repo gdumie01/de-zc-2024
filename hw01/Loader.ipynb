{
 "cells": [
  {
   "cell_type": "markdown",
   "id": "f3edd561-e0ca-44a6-ae0c-3791f826d639",
   "metadata": {},
   "source": [
    "## Run ingest pipeline"
   ]
  },
  {
   "cell_type": "code",
   "execution_count": null,
   "id": "c6ed43a6-76fe-42fd-a8fd-38f4219d285d",
   "metadata": {},
   "outputs": [],
   "source": [
    "%python3 ingest_data.py --user=<user> --password=<pass> --host=localhost --port=5432 --db=ny_taxi --table_name=green_taxi_trips --url='https://github.com/DataTalksClub/nyc-tlc-data/releases/download/yellow/yellow_tripdata_2021-01.csv.gz'"
   ]
  },
  {
   "cell_type": "markdown",
   "id": "b9bd5e61-70b7-43a3-8ea4-75940ed39dd3",
   "metadata": {},
   "source": [
    "## Load Zones"
   ]
  },
  {
   "cell_type": "code",
   "execution_count": 29,
   "id": "14d539e4-b22a-4369-9786-ee007a4f3010",
   "metadata": {},
   "outputs": [
    {
     "data": {
      "text/plain": [
       "265"
      ]
     },
     "execution_count": 29,
     "metadata": {},
     "output_type": "execute_result"
    }
   ],
   "source": [
    "import pandas as pd\n",
    "from sqlalchemy import create_engine\n",
    "import os\n",
    "\n",
    "os.system(f\"wget https://s3.amazonaws.com/nyc-tlc/misc/taxi+_zone_lookup.csv -O taxi+_zone_lookup.csv\")\n",
    "engine = create_engine('postgresql://<user>:<pass>@localhost:5432/ny_taxi')\n",
    "df = pd.read_csv('taxi+_zone_lookup.csv')\n",
    "df.head(n=0).to_sql(name='zone_lookup', con=engine, if_exists='replace')\n",
    "df.to_sql(name='zone_lookup', con=engine, if_exists='append')"
   ]
  },
  {
   "cell_type": "code",
   "execution_count": 31,
   "id": "c022f2e2-4d52-4450-aa53-5c9b3873fe3b",
   "metadata": {},
   "outputs": [
    {
     "name": "stdout",
     "output_type": "stream",
     "text": [
      "<class 'pandas.core.frame.DataFrame'>\n",
      "RangeIndex: 265 entries, 0 to 264\n",
      "Data columns (total 4 columns):\n",
      " #   Column        Non-Null Count  Dtype \n",
      "---  ------        --------------  ----- \n",
      " 0   LocationID    265 non-null    int64 \n",
      " 1   Borough       265 non-null    object\n",
      " 2   Zone          264 non-null    object\n",
      " 3   service_zone  263 non-null    object\n",
      "dtypes: int64(1), object(3)\n",
      "memory usage: 8.4+ KB\n"
     ]
    }
   ],
   "source": [
    "df.info()"
   ]
  }
 ],
 "metadata": {
  "kernelspec": {
   "display_name": "Python 3 (ipykernel)",
   "language": "python",
   "name": "python3"
  },
  "language_info": {
   "codemirror_mode": {
    "name": "ipython",
    "version": 3
   },
   "file_extension": ".py",
   "mimetype": "text/x-python",
   "name": "python",
   "nbconvert_exporter": "python",
   "pygments_lexer": "ipython3",
   "version": "3.11.6"
  }
 },
 "nbformat": 4,
 "nbformat_minor": 5
}
